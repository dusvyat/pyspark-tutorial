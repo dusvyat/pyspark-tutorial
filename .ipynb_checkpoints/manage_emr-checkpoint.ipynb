{
 "cells": [
  {
   "cell_type": "code",
   "execution_count": 5,
   "metadata": {},
   "outputs": [],
   "source": [
    "import subprocess"
   ]
  },
  {
   "cell_type": "code",
   "execution_count": 9,
   "metadata": {},
   "outputs": [
    {
     "name": "stdout",
     "output_type": "stream",
     "text": [
      "{\n",
      "    \"ClusterId\": \"j-1V5RZFM72WLZW\",\n",
      "    \"ClusterArn\": \"arn:aws:elasticmapreduce:us-east-1:728881615985:cluster/j-1V5RZFM72WLZW\"\n",
      "}\n"
     ]
    }
   ],
   "source": [
    "#old create cluster command\n",
    "\n",
    "#!aws emr create-cluster --applications Name=Livy Name=Spark --ec2-attributes '{\"KeyName\":\"emr2\",\"InstanceProfile\":\"EMR_EC2_DefaultRole\",\"SubnetId\":\"subnet-0900d302822d1381a\",\"EmrManagedSlaveSecurityGroup\":\"sg-09ecbd83be73c424a\",\"EmrManagedMasterSecurityGroup\":\"sg-055afa196eddfe2b8\"}' --release-label emr-5.25.0 --log-uri 's3n://aws-logs-728881615985-us-east-1/elasticmapreduce/' --instance-groups '[{\"InstanceCount\":1,\"EbsConfiguration\":{\"EbsBlockDeviceConfigs\":[{\"VolumeSpecification\":{\"SizeInGB\":64,\"VolumeType\":\"gp2\"},\"VolumesPerInstance\":4}]},\"InstanceGroupType\":\"MASTER\",\"InstanceType\":\"c5.4xlarge\",\"Name\":\"Master - 1\"},{\"InstanceCount\":2,\"EbsConfiguration\":{\"EbsBlockDeviceConfigs\":[{\"VolumeSpecification\":{\"SizeInGB\":32,\"VolumeType\":\"gp2\"},\"VolumesPerInstance\":4}]},\"InstanceGroupType\":\"CORE\",\"InstanceType\":\"c5.2xlarge\",\"Name\":\"Core - 2\"}]' --configurations '[{\"Classification\":\"spark-env\",\"Properties\":{},\"Configurations\":[{\"Classification\":\"export\",\"Properties\":{\"PYSPARK_PYTHON\":\"/usr/bin/python3\"}}]}]' --auto-scaling-role EMR_AutoScaling_DefaultRole --bootstrap-actions '[{\"Path\":\"s3://emr-project-heart/setup.sh\",\"Args\":[\"instance.isMaster=true\",\"echo running on master node\"],\"Name\":\"Bootstrap action\"}]' --ebs-root-volume-size 100 --service-role EMR_DefaultRole --enable-debugging --name 'pyspark-sage-emr-test' --scale-down-behavior TERMINATE_AT_TASK_COMPLETION --region us-east-1 --profile dataScience\n",
    "\n",
    "# create new cluster\n",
    "\n",
    "!aws emr create-cluster --applications Name=Livy Name=Spark --ec2-attributes '{\"KeyName\":\"emr2\",\"InstanceProfile\":\"EMR_EC2_DefaultRole\",\"SubnetId\":\"subnet-0900d302822d1381a\",\"EmrManagedSlaveSecurityGroup\":\"sg-09ecbd83be73c424a\",\"EmrManagedMasterSecurityGroup\":\"sg-055afa196eddfe2b8\"}' \\--release-label emr-5.25.0 --log-uri 's3n://aws-logs-728881615985-us-east-1/elasticmapreduce/' --instance-groups '[{\"InstanceCount\":1,\"EbsConfiguration\":{\"EbsBlockDeviceConfigs\":[{\"VolumeSpecification\":{\"SizeInGB\":64,\"VolumeType\":\"gp2\"},\"VolumesPerInstance\":4}]},\"InstanceGroupType\":\"MASTER\",\"InstanceType\":\"c5.4xlarge\",\"Name\":\"Master - 1\"},{\"InstanceCount\":2,\"EbsConfiguration\":{\"EbsBlockDeviceConfigs\":[{\"VolumeSpecification\":{\"SizeInGB\":32,\"VolumeType\":\"gp2\"},\"VolumesPerInstance\":4}]},\"InstanceGroupType\":\"CORE\",\"InstanceType\":\"c5.2xlarge\",\"Name\":\"Core - 2\"}]' --auto-scaling-role EMR_AutoScaling_DefaultRole --ebs-root-volume-size 100 --service-role EMR_DefaultRole --enable-debugging --name 'pyspark-sage-emr-test' --scale-down-behavior TERMINATE_AT_TASK_COMPLETION --region us-east-1  --configurations '[{\"Classification\": \"spark-env\",\"Configurations\": [{\"Classification\": \"export\",\"Properties\": {\"PYSPARK_PYTHON\": \"/usr/bin/python3\"}}]}]' --profile dataScience\n"
   ]
  },
  {
   "cell_type": "markdown",
   "metadata": {
    "pycharm": {
     "name": "#%% md\n"
    }
   },
   "source": [
    "run the following commands, take care to copy in your emr master ip into 4th line:\n",
    "\n",
    "nano config.json <br/>\n",
    "ctrl+\\ <br/>\n",
    "localhost <br/>\n",
    "your-EMR-Master-private-IP <br/>\n",
    "a <br/>\n",
    "ctrl+x <br/>\n",
    "y <br/>\n",
    "enter "
   ]
  },
  {
   "cell_type": "code",
   "execution_count": null,
   "metadata": {},
   "outputs": [],
   "source": [
    "master_ip_last = ''\n",
    "\n",
    "# check for active connection between sagemaker and EMR\n",
    "cmd='curl 10.0.0.{}:8998/sessions'.format(master_ip_last)\n",
    "subprocess.call(cmd, shell=True)\n",
    "\n",
    "print(cmd)\n",
    "\n"
   ]
  },
  {
   "cell_type": "code",
   "execution_count": null,
   "metadata": {
    "pycharm": {
     "name": "#%%\n"
    }
   },
   "outputs": [],
   "source": [
    "# terminate cluster\n",
    "\n",
    "\n",
    "#term=\"aws emr terminate-clusters --cluster-ids {} --region us-east-1 --profile dataScience\".format(new_emr_id)\n",
    "\n",
    "subprocess.call(term,shell=True)\n",
    "\n",
    "\n",
    "\n"
   ]
  }
 ],
 "metadata": {
  "kernelspec": {
   "display_name": "Python 3",
   "language": "python",
   "name": "python3"
  },
  "language_info": {
   "codemirror_mode": {
    "name": "ipython",
    "version": 3
   },
   "file_extension": ".py",
   "mimetype": "text/x-python",
   "name": "python",
   "nbconvert_exporter": "python",
   "pygments_lexer": "ipython3",
   "version": "3.7.7"
  },
  "pycharm": {
   "stem_cell": {
    "cell_type": "raw",
    "metadata": {
     "collapsed": false
    },
    "source": []
   }
  }
 },
 "nbformat": 4,
 "nbformat_minor": 4
}
