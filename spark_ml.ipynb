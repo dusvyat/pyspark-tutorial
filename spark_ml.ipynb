{
 "cells": [
  {
   "cell_type": "code",
   "execution_count": 1,
   "outputs": [
    {
     "name": "stdout",
     "text": [
      "Requirement already satisfied: findspark in /anaconda3/envs/pyspark-tutorial/lib/python3.7/site-packages (1.3.0)\r\n",
      "Requirement already satisfied: pyspark in /anaconda3/envs/pyspark-tutorial/lib/python3.7/site-packages (2.4.5)\r\n",
      "Requirement already satisfied: py4j==0.10.7 in /anaconda3/envs/pyspark-tutorial/lib/python3.7/site-packages (from pyspark) (0.10.7)\r\n",
      "Requirement already satisfied: numpy in /anaconda3/envs/pyspark-tutorial/lib/python3.7/site-packages (1.18.2)\r\n"
     ],
     "output_type": "stream"
    }
   ],
   "source": [
    "!pip install findspark\n",
    "!pip install pyspark\n",
    "!pip install numpy\n"
   ],
   "metadata": {
    "collapsed": false,
    "pycharm": {
     "name": "#%%\n",
     "is_executing": false
    }
   }
  },
  {
   "cell_type": "code",
   "execution_count": 2,
   "outputs": [],
   "source": [
    "# make pyspark importable as a regular library.\n",
    "import findspark\n",
    "from pyspark.ml.feature import VectorAssembler\n",
    "from pyspark.ml.regression import LinearRegression\n",
    "from pyspark.sql import SparkSession\n",
    "\n",
    "findspark.init()"
   ],
   "metadata": {
    "collapsed": false,
    "pycharm": {
     "name": "#%%\n",
     "is_executing": false
    }
   }
  },
  {
   "cell_type": "code",
   "execution_count": 3,
   "outputs": [],
   "source": [
    "#create spark session\n",
    "spark = SparkSession.builder.getOrCreate()"
   ],
   "metadata": {
    "collapsed": false,
    "pycharm": {
     "name": "#%%\n",
     "is_executing": false
    }
   }
  },
  {
   "cell_type": "code",
   "execution_count": 4,
   "outputs": [],
   "source": [
    "# load data\n",
    "data = spark.read.csv('data/boston_housing.csv', header=True, inferSchema=True)"
   ],
   "metadata": {
    "collapsed": false,
    "pycharm": {
     "name": "#%%\n",
     "is_executing": false
    }
   }
  },
  {
   "cell_type": "code",
   "execution_count": 5,
   "outputs": [],
   "source": [
    "# create features vector\n",
    "feature_columns = data.columns[:-1] # here we omit the final column"
   ],
   "metadata": {
    "collapsed": false,
    "pycharm": {
     "name": "#%%\n",
     "is_executing": false
    }
   }
  },
  {
   "cell_type": "code",
   "execution_count": 6,
   "outputs": [],
   "source": [
    "assembler = VectorAssembler(inputCols=feature_columns,outputCol=\"features\")\n",
    "data_2 = assembler.transform(data)"
   ],
   "metadata": {
    "collapsed": false,
    "pycharm": {
     "name": "#%%\n",
     "is_executing": false
    }
   }
  },
  {
   "cell_type": "code",
   "execution_count": 7,
   "outputs": [],
   "source": [
    "# train/test split\n",
    "train, test = data_2.randomSplit([0.7, 0.3])"
   ],
   "metadata": {
    "collapsed": false,
    "pycharm": {
     "name": "#%%\n",
     "is_executing": false
    }
   }
  },
  {
   "cell_type": "code",
   "execution_count": 8,
   "outputs": [],
   "source": [
    "# define the model\n",
    "\n",
    "algo = LinearRegression(featuresCol=\"features\", labelCol=\"medv\")"
   ],
   "metadata": {
    "collapsed": false,
    "pycharm": {
     "name": "#%%\n",
     "is_executing": false
    }
   }
  },
  {
   "cell_type": "code",
   "execution_count": 9,
   "outputs": [],
   "source": [
    "# train the model\n",
    "model = algo.fit(train)"
   ],
   "metadata": {
    "collapsed": false,
    "pycharm": {
     "name": "#%%\n",
     "is_executing": false
    }
   }
  },
  {
   "cell_type": "code",
   "execution_count": 10,
   "outputs": [
    {
     "data": {
      "text/plain": "0.7353727413148607"
     },
     "metadata": {},
     "output_type": "execute_result",
     "execution_count": 10
    }
   ],
   "source": [
    "# evaluation\n",
    "evaluation_summary = model.evaluate(test)\n",
    "evaluation_summary.meanAbsoluteError\n",
    "evaluation_summary.rootMeanSquaredError\n",
    "evaluation_summary.r2"
   ],
   "metadata": {
    "collapsed": false,
    "pycharm": {
     "name": "#%%\n",
     "is_executing": false
    }
   }
  },
  {
   "cell_type": "code",
   "execution_count": 11,
   "outputs": [
    {
     "name": "stdout",
     "text": [
      "+----+--------------------+------------------+\n",
      "|medv|            features|        prediction|\n",
      "+----+--------------------+------------------+\n",
      "|32.2|[0.00906,90.0,2.9...|31.373305146273673|\n",
      "|22.0|[0.01096,55.0,2.2...|27.283523552653804|\n",
      "|32.7|[0.01301,35.0,1.5...|29.925755421570962|\n",
      "|35.4|[0.01311,90.0,1.2...| 31.28776428865545|\n",
      "|50.0|[0.01381,80.0,0.4...| 40.07475133143581|\n",
      "|24.5|[0.01501,80.0,2.0...| 27.69314651336287|\n",
      "|32.9|[0.01778,95.0,1.4...|30.325504612569596|\n",
      "|42.3|[0.02177,82.5,2.0...|36.434044146688244|\n",
      "|23.9|[0.02543,55.0,3.7...|27.330348688457555|\n",
      "|34.7|[0.02729,0.0,7.07...| 30.21165530846681|\n",
      "|21.6|[0.02731,0.0,7.07...| 24.81572362965898|\n",
      "|18.5|[0.03041,0.0,5.19...|19.963060890535534|\n",
      "|31.2|[0.03049,55.0,3.7...|28.491844002452936|\n",
      "|34.9|[0.0315,95.0,1.47...|29.820998857580186|\n",
      "|33.4|[0.03237,0.0,2.18...|28.710318455640305|\n",
      "|19.5|[0.03427,0.0,5.19...|20.969566401471187|\n",
      "|19.4|[0.03466,35.0,6.0...|23.695445539194388|\n",
      "|22.9|[0.03551,25.0,4.8...| 25.19126856374131|\n",
      "|45.4|[0.03578,20.0,3.3...|37.930260695744444|\n",
      "|23.5|[0.03584,80.0,3.3...|30.307530768195974|\n",
      "+----+--------------------+------------------+\n",
      "only showing top 20 rows\n",
      "\n"
     ],
     "output_type": "stream"
    }
   ],
   "source": [
    "# predicting values\n",
    "predictions = model.transform(test)\n",
    "predictions.select(predictions.columns[13:]).show() # here I am filtering out some col\n"
   ],
   "metadata": {
    "collapsed": false,
    "pycharm": {
     "name": "#%%\n",
     "is_executing": false
    }
   }
  },
  {
   "cell_type": "code",
   "execution_count": 11,
   "outputs": [],
   "source": [
    "\n"
   ],
   "metadata": {
    "collapsed": false,
    "pycharm": {
     "name": "#%%\n",
     "is_executing": false
    }
   }
  }
 ],
 "metadata": {
  "kernelspec": {
   "display_name": "Python 3",
   "language": "python",
   "name": "python3"
  },
  "language_info": {
   "codemirror_mode": {
    "name": "ipython",
    "version": 2
   },
   "file_extension": ".py",
   "mimetype": "text/x-python",
   "name": "python",
   "nbconvert_exporter": "python",
   "pygments_lexer": "ipython2",
   "version": "2.7.6"
  },
  "pycharm": {
   "stem_cell": {
    "cell_type": "raw",
    "source": [],
    "metadata": {
     "collapsed": false
    }
   }
  }
 },
 "nbformat": 4,
 "nbformat_minor": 0
}